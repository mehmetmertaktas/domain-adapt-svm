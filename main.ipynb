{
 "cells": [
  {
   "cell_type": "code",
   "execution_count": 1,
   "metadata": {},
   "outputs": [],
   "source": [
    "import numpy as np\n",
    "from cvxopt import solvers, matrix\n",
    "solvers.options['show_progress'] = False\n",
    "\n",
    "class SVM:\n",
    "    \n",
    "    def __init__(self, C=10.0, B=1.0, w_source=None):\n",
    "        \n",
    "        self.C = C                \n",
    "        self.B = B\n",
    "        if w_source is None:\n",
    "            self.domain_adapt = False\n",
    "        else:\n",
    "            self.domain_adapt = True\n",
    "        self.w_source = w_source  # source weights\n",
    "        self.w = None             # weights\n",
    "        self.b = None             # bias\n",
    "        self.S = None             # indices of support vectors\n",
    "        \n",
    "    def fit(self, X, y):\n",
    "        \n",
    "        self.n, self.d = X.shape  # n: number of datapts, d: number of dims\n",
    "        yy = y.reshape(-1, 1) * 1.\n",
    "        X_dash = yy * X\n",
    "        H = np.dot(X_dash , X_dash.T) * 1.\n",
    "        \n",
    "        P = matrix(H)\n",
    "        if self.domain_adapt == False:\n",
    "            q = matrix(-np.ones((self.n, 1)))\n",
    "        else:\n",
    "            extra_term = (self.B * y * (self.w_source.T @ X.T)).T\n",
    "            q = matrix(-np.ones((self.n, 1)) + extra_term)\n",
    "        G = matrix(np.vstack((-np.eye(self.n), np.eye(self.n))))\n",
    "        h = matrix(np.hstack((np.zeros(self.n), np.ones(self.n) * self.C)))\n",
    "        A = matrix(y.reshape(1, -1))\n",
    "        b = matrix(np.zeros(1))\n",
    "        \n",
    "        sol = solvers.qp(P, q, G, h, A, b)\n",
    "        alphas = np.array(sol['x'])\n",
    "        \n",
    "        self.w = ((yy * alphas).T @ X).reshape(-1, 1)\n",
    "        self.S = (alphas > 1e-4).flatten()\n",
    "        self.b = None  # I'll implement this later"
   ]
  },
  {
   "cell_type": "code",
   "execution_count": 2,
   "metadata": {},
   "outputs": [],
   "source": [
    "source_data = np.genfromtxt('source_train.csv', delimiter=',')\n",
    "target_data = np.genfromtxt('target_train.csv', delimiter=',')\n",
    "\n",
    "X_s, y_s = source_data[:, 0: -1], source_data [:, -1]\n",
    "X_t, y_t = target_data[:, 0: -1], target_data [:, -1]"
   ]
  },
  {
   "cell_type": "code",
   "execution_count": 3,
   "metadata": {},
   "outputs": [
    {
     "name": "stdout",
     "output_type": "stream",
     "text": [
      "With C = 10.0 and B = 1.0: \n",
      "\n",
      "w_source = (2.31500, 2.14257)\n",
      "w_target = (1.80452, 0.78850)\n"
     ]
    }
   ],
   "source": [
    "C, B = 10., 1.\n",
    "print(f'With C = {C} and B = {B}: \\n')\n",
    "\n",
    "clf = SVM(C=C)\n",
    "clf.fit(X_s, y_s)\n",
    "w_s = clf.w\n",
    "print(f'w_source = ({w_s[0][0]:.5f}, {w_s[1][0]:.5f})')\n",
    "\n",
    "clf = SVM(C=C, B=B, w_source=w_s)\n",
    "clf.fit(X_t, y_t)\n",
    "w_t = clf.w\n",
    "print(f'w_target = ({w_t[0][0]:.5f}, {w_t[1][0]:.5f})')"
   ]
  }
 ],
 "metadata": {
  "kernelspec": {
   "display_name": "Python 3",
   "language": "python",
   "name": "python3"
  },
  "language_info": {
   "codemirror_mode": {
    "name": "ipython",
    "version": 3
   },
   "file_extension": ".py",
   "mimetype": "text/x-python",
   "name": "python",
   "nbconvert_exporter": "python",
   "pygments_lexer": "ipython3",
   "version": "3.8.5"
  }
 },
 "nbformat": 4,
 "nbformat_minor": 4
}
